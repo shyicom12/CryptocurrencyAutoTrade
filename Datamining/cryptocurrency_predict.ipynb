{
  "nbformat": 4,
  "nbformat_minor": 0,
  "metadata": {
    "colab": {
      "name": "Untitled0.ipynb의 사본",
      "provenance": [],
      "collapsed_sections": []
    },
    "kernelspec": {
      "name": "python3",
      "display_name": "Python 3"
    },
    "language_info": {
      "name": "python"
    }
  },
  "cells": [
    {
      "cell_type": "code",
      "metadata": {
        "colab": {
          "base_uri": "https://localhost:8080/"
        },
        "id": "YBQMUlUEVz8-",
        "outputId": "9f696f5b-b41b-4d06-b605-37661e621911"
      },
      "source": [
        "!pip install pyupbit"
      ],
      "execution_count": 1,
      "outputs": [
        {
          "output_type": "stream",
          "name": "stdout",
          "text": [
            "Collecting pyupbit\n",
            "  Downloading pyupbit-0.2.21-py3-none-any.whl (21 kB)\n",
            "Requirement already satisfied: pandas in /usr/local/lib/python3.7/dist-packages (from pyupbit) (1.1.5)\n",
            "Collecting pyjwt>=2.0.0\n",
            "  Downloading PyJWT-2.3.0-py3-none-any.whl (16 kB)\n",
            "Requirement already satisfied: requests in /usr/local/lib/python3.7/dist-packages (from pyupbit) (2.23.0)\n",
            "Collecting websockets==9.1\n",
            "  Downloading websockets-9.1-cp37-cp37m-manylinux2010_x86_64.whl (103 kB)\n",
            "\u001b[K     |████████████████████████████████| 103 kB 53.9 MB/s \n",
            "\u001b[?25hRequirement already satisfied: numpy>=1.15.4 in /usr/local/lib/python3.7/dist-packages (from pandas->pyupbit) (1.19.5)\n",
            "Requirement already satisfied: pytz>=2017.2 in /usr/local/lib/python3.7/dist-packages (from pandas->pyupbit) (2018.9)\n",
            "Requirement already satisfied: python-dateutil>=2.7.3 in /usr/local/lib/python3.7/dist-packages (from pandas->pyupbit) (2.8.2)\n",
            "Requirement already satisfied: six>=1.5 in /usr/local/lib/python3.7/dist-packages (from python-dateutil>=2.7.3->pandas->pyupbit) (1.15.0)\n",
            "Requirement already satisfied: urllib3!=1.25.0,!=1.25.1,<1.26,>=1.21.1 in /usr/local/lib/python3.7/dist-packages (from requests->pyupbit) (1.24.3)\n",
            "Requirement already satisfied: idna<3,>=2.5 in /usr/local/lib/python3.7/dist-packages (from requests->pyupbit) (2.10)\n",
            "Requirement already satisfied: certifi>=2017.4.17 in /usr/local/lib/python3.7/dist-packages (from requests->pyupbit) (2021.10.8)\n",
            "Requirement already satisfied: chardet<4,>=3.0.2 in /usr/local/lib/python3.7/dist-packages (from requests->pyupbit) (3.0.4)\n",
            "Installing collected packages: websockets, pyjwt, pyupbit\n",
            "Successfully installed pyjwt-2.3.0 pyupbit-0.2.21 websockets-9.1\n"
          ]
        }
      ]
    },
    {
      "cell_type": "code",
      "metadata": {
        "id": "GGXX62QRV69A"
      },
      "source": [
        "import pyupbit"
      ],
      "execution_count": 2,
      "outputs": []
    },
    {
      "cell_type": "code",
      "metadata": {
        "colab": {
          "base_uri": "https://localhost:8080/",
          "height": 424
        },
        "id": "RFYp_cEmWaMk",
        "outputId": "73f79312-00b0-4e9a-de1a-7ee216797e12"
      },
      "source": [
        "#BTC 최근 200시간의 데이터\n",
        "df = pyupbit.get_ohlcv(\"KRW-BTC\", interval=\"minute60\")\n",
        "df"
      ],
      "execution_count": 3,
      "outputs": [
        {
          "output_type": "execute_result",
          "data": {
            "text/html": [
              "<div>\n",
              "<style scoped>\n",
              "    .dataframe tbody tr th:only-of-type {\n",
              "        vertical-align: middle;\n",
              "    }\n",
              "\n",
              "    .dataframe tbody tr th {\n",
              "        vertical-align: top;\n",
              "    }\n",
              "\n",
              "    .dataframe thead th {\n",
              "        text-align: right;\n",
              "    }\n",
              "</style>\n",
              "<table border=\"1\" class=\"dataframe\">\n",
              "  <thead>\n",
              "    <tr style=\"text-align: right;\">\n",
              "      <th></th>\n",
              "      <th>open</th>\n",
              "      <th>high</th>\n",
              "      <th>low</th>\n",
              "      <th>close</th>\n",
              "      <th>volume</th>\n",
              "      <th>value</th>\n",
              "    </tr>\n",
              "  </thead>\n",
              "  <tbody>\n",
              "    <tr>\n",
              "      <th>2021-11-29 11:00:00</th>\n",
              "      <td>72581000.0</td>\n",
              "      <td>72881000.0</td>\n",
              "      <td>72482000.0</td>\n",
              "      <td>72500000.0</td>\n",
              "      <td>367.306483</td>\n",
              "      <td>2.671367e+10</td>\n",
              "    </tr>\n",
              "    <tr>\n",
              "      <th>2021-11-29 12:00:00</th>\n",
              "      <td>72499000.0</td>\n",
              "      <td>72745000.0</td>\n",
              "      <td>72400000.0</td>\n",
              "      <td>72497000.0</td>\n",
              "      <td>531.713385</td>\n",
              "      <td>3.859440e+10</td>\n",
              "    </tr>\n",
              "    <tr>\n",
              "      <th>2021-11-29 13:00:00</th>\n",
              "      <td>72497000.0</td>\n",
              "      <td>72677000.0</td>\n",
              "      <td>72029000.0</td>\n",
              "      <td>72109000.0</td>\n",
              "      <td>272.784650</td>\n",
              "      <td>1.972094e+10</td>\n",
              "    </tr>\n",
              "    <tr>\n",
              "      <th>2021-11-29 14:00:00</th>\n",
              "      <td>72109000.0</td>\n",
              "      <td>72211000.0</td>\n",
              "      <td>71857000.0</td>\n",
              "      <td>72128000.0</td>\n",
              "      <td>240.414619</td>\n",
              "      <td>1.732067e+10</td>\n",
              "    </tr>\n",
              "    <tr>\n",
              "      <th>2021-11-29 15:00:00</th>\n",
              "      <td>72133000.0</td>\n",
              "      <td>72400000.0</td>\n",
              "      <td>72098000.0</td>\n",
              "      <td>72193000.0</td>\n",
              "      <td>194.399499</td>\n",
              "      <td>1.403889e+10</td>\n",
              "    </tr>\n",
              "    <tr>\n",
              "      <th>...</th>\n",
              "      <td>...</td>\n",
              "      <td>...</td>\n",
              "      <td>...</td>\n",
              "      <td>...</td>\n",
              "      <td>...</td>\n",
              "      <td>...</td>\n",
              "    </tr>\n",
              "    <tr>\n",
              "      <th>2021-12-07 14:00:00</th>\n",
              "      <td>63040000.0</td>\n",
              "      <td>63320000.0</td>\n",
              "      <td>62970000.0</td>\n",
              "      <td>63052000.0</td>\n",
              "      <td>243.087001</td>\n",
              "      <td>1.534949e+10</td>\n",
              "    </tr>\n",
              "    <tr>\n",
              "      <th>2021-12-07 15:00:00</th>\n",
              "      <td>63070000.0</td>\n",
              "      <td>63272000.0</td>\n",
              "      <td>62911000.0</td>\n",
              "      <td>63200000.0</td>\n",
              "      <td>232.923012</td>\n",
              "      <td>1.469602e+10</td>\n",
              "    </tr>\n",
              "    <tr>\n",
              "      <th>2021-12-07 16:00:00</th>\n",
              "      <td>63126000.0</td>\n",
              "      <td>63272000.0</td>\n",
              "      <td>62800000.0</td>\n",
              "      <td>62814000.0</td>\n",
              "      <td>254.601537</td>\n",
              "      <td>1.604354e+10</td>\n",
              "    </tr>\n",
              "    <tr>\n",
              "      <th>2021-12-07 17:00:00</th>\n",
              "      <td>62820000.0</td>\n",
              "      <td>63313000.0</td>\n",
              "      <td>62800000.0</td>\n",
              "      <td>63306000.0</td>\n",
              "      <td>342.549678</td>\n",
              "      <td>2.159704e+10</td>\n",
              "    </tr>\n",
              "    <tr>\n",
              "      <th>2021-12-07 18:00:00</th>\n",
              "      <td>63307000.0</td>\n",
              "      <td>63799000.0</td>\n",
              "      <td>63201000.0</td>\n",
              "      <td>63739000.0</td>\n",
              "      <td>261.011991</td>\n",
              "      <td>1.656915e+10</td>\n",
              "    </tr>\n",
              "  </tbody>\n",
              "</table>\n",
              "<p>200 rows × 6 columns</p>\n",
              "</div>"
            ],
            "text/plain": [
              "                           open        high  ...      volume         value\n",
              "2021-11-29 11:00:00  72581000.0  72881000.0  ...  367.306483  2.671367e+10\n",
              "2021-11-29 12:00:00  72499000.0  72745000.0  ...  531.713385  3.859440e+10\n",
              "2021-11-29 13:00:00  72497000.0  72677000.0  ...  272.784650  1.972094e+10\n",
              "2021-11-29 14:00:00  72109000.0  72211000.0  ...  240.414619  1.732067e+10\n",
              "2021-11-29 15:00:00  72133000.0  72400000.0  ...  194.399499  1.403889e+10\n",
              "...                         ...         ...  ...         ...           ...\n",
              "2021-12-07 14:00:00  63040000.0  63320000.0  ...  243.087001  1.534949e+10\n",
              "2021-12-07 15:00:00  63070000.0  63272000.0  ...  232.923012  1.469602e+10\n",
              "2021-12-07 16:00:00  63126000.0  63272000.0  ...  254.601537  1.604354e+10\n",
              "2021-12-07 17:00:00  62820000.0  63313000.0  ...  342.549678  2.159704e+10\n",
              "2021-12-07 18:00:00  63307000.0  63799000.0  ...  261.011991  1.656915e+10\n",
              "\n",
              "[200 rows x 6 columns]"
            ]
          },
          "metadata": {},
          "execution_count": 3
        }
      ]
    },
    {
      "cell_type": "code",
      "metadata": {
        "colab": {
          "base_uri": "https://localhost:8080/",
          "height": 424
        },
        "id": "KLiEPi1qWqh_",
        "outputId": "19e17bdc-e296-4435-e9b4-67b9ca625b3d"
      },
      "source": [
        "#시간(ds)와 종가(y)값만 남김\n",
        "df = df.reset_index()\n",
        "df['ds'] = df['index']\n",
        "df['y'] = df['close']\n",
        "data = df[['ds','y']]\n",
        "data"
      ],
      "execution_count": 4,
      "outputs": [
        {
          "output_type": "execute_result",
          "data": {
            "text/html": [
              "<div>\n",
              "<style scoped>\n",
              "    .dataframe tbody tr th:only-of-type {\n",
              "        vertical-align: middle;\n",
              "    }\n",
              "\n",
              "    .dataframe tbody tr th {\n",
              "        vertical-align: top;\n",
              "    }\n",
              "\n",
              "    .dataframe thead th {\n",
              "        text-align: right;\n",
              "    }\n",
              "</style>\n",
              "<table border=\"1\" class=\"dataframe\">\n",
              "  <thead>\n",
              "    <tr style=\"text-align: right;\">\n",
              "      <th></th>\n",
              "      <th>ds</th>\n",
              "      <th>y</th>\n",
              "    </tr>\n",
              "  </thead>\n",
              "  <tbody>\n",
              "    <tr>\n",
              "      <th>0</th>\n",
              "      <td>2021-11-29 11:00:00</td>\n",
              "      <td>72500000.0</td>\n",
              "    </tr>\n",
              "    <tr>\n",
              "      <th>1</th>\n",
              "      <td>2021-11-29 12:00:00</td>\n",
              "      <td>72497000.0</td>\n",
              "    </tr>\n",
              "    <tr>\n",
              "      <th>2</th>\n",
              "      <td>2021-11-29 13:00:00</td>\n",
              "      <td>72109000.0</td>\n",
              "    </tr>\n",
              "    <tr>\n",
              "      <th>3</th>\n",
              "      <td>2021-11-29 14:00:00</td>\n",
              "      <td>72128000.0</td>\n",
              "    </tr>\n",
              "    <tr>\n",
              "      <th>4</th>\n",
              "      <td>2021-11-29 15:00:00</td>\n",
              "      <td>72193000.0</td>\n",
              "    </tr>\n",
              "    <tr>\n",
              "      <th>...</th>\n",
              "      <td>...</td>\n",
              "      <td>...</td>\n",
              "    </tr>\n",
              "    <tr>\n",
              "      <th>195</th>\n",
              "      <td>2021-12-07 14:00:00</td>\n",
              "      <td>63052000.0</td>\n",
              "    </tr>\n",
              "    <tr>\n",
              "      <th>196</th>\n",
              "      <td>2021-12-07 15:00:00</td>\n",
              "      <td>63200000.0</td>\n",
              "    </tr>\n",
              "    <tr>\n",
              "      <th>197</th>\n",
              "      <td>2021-12-07 16:00:00</td>\n",
              "      <td>62814000.0</td>\n",
              "    </tr>\n",
              "    <tr>\n",
              "      <th>198</th>\n",
              "      <td>2021-12-07 17:00:00</td>\n",
              "      <td>63306000.0</td>\n",
              "    </tr>\n",
              "    <tr>\n",
              "      <th>199</th>\n",
              "      <td>2021-12-07 18:00:00</td>\n",
              "      <td>63739000.0</td>\n",
              "    </tr>\n",
              "  </tbody>\n",
              "</table>\n",
              "<p>200 rows × 2 columns</p>\n",
              "</div>"
            ],
            "text/plain": [
              "                     ds           y\n",
              "0   2021-11-29 11:00:00  72500000.0\n",
              "1   2021-11-29 12:00:00  72497000.0\n",
              "2   2021-11-29 13:00:00  72109000.0\n",
              "3   2021-11-29 14:00:00  72128000.0\n",
              "4   2021-11-29 15:00:00  72193000.0\n",
              "..                  ...         ...\n",
              "195 2021-12-07 14:00:00  63052000.0\n",
              "196 2021-12-07 15:00:00  63200000.0\n",
              "197 2021-12-07 16:00:00  62814000.0\n",
              "198 2021-12-07 17:00:00  63306000.0\n",
              "199 2021-12-07 18:00:00  63739000.0\n",
              "\n",
              "[200 rows x 2 columns]"
            ]
          },
          "metadata": {},
          "execution_count": 4
        }
      ]
    },
    {
      "cell_type": "code",
      "metadata": {
        "id": "Ebz-XIHaWtWP"
      },
      "source": [
        "from fbprophet import Prophet"
      ],
      "execution_count": 5,
      "outputs": []
    },
    {
      "cell_type": "code",
      "metadata": {
        "colab": {
          "base_uri": "https://localhost:8080/"
        },
        "id": "eVp75CyHXgHr",
        "outputId": "0367dc10-2070-43af-99d9-f248778cb9f6"
      },
      "source": [
        "#학습\n",
        "model = Prophet()\n",
        "model.fit(data)"
      ],
      "execution_count": 16,
      "outputs": [
        {
          "output_type": "stream",
          "name": "stderr",
          "text": [
            "INFO:fbprophet:Disabling yearly seasonality. Run prophet with yearly_seasonality=True to override this.\n",
            "INFO:fbprophet:Disabling weekly seasonality. Run prophet with weekly_seasonality=True to override this.\n"
          ]
        },
        {
          "output_type": "execute_result",
          "data": {
            "text/plain": [
              "<fbprophet.forecaster.Prophet at 0x7fb57782ca50>"
            ]
          },
          "metadata": {},
          "execution_count": 16
        }
      ]
    },
    {
      "cell_type": "code",
      "metadata": {
        "id": "fkzuN5tbWvxl"
      },
      "source": [
        "#24시간 미래예측\n",
        "future = model.make_future_dataframe(periods=24, freq='H')\n",
        "forecast = model.predict(future)"
      ],
      "execution_count": 9,
      "outputs": []
    },
    {
      "cell_type": "code",
      "metadata": {
        "colab": {
          "base_uri": "https://localhost:8080/",
          "height": 441
        },
        "id": "Oe4xryGDXmdk",
        "outputId": "2ef753f7-a187-4694-c492-390375fce28d"
      },
      "source": [
        "fig1 = model.plot(forecast)"
      ],
      "execution_count": 10,
      "outputs": [
        {
          "output_type": "display_data",
          "data": {
            "image/png": "[encoded data removed]",
            "text/plain": [
              "<Figure size 720x432 with 1 Axes>"
            ]
          },
          "metadata": {}
        }
      ]
    },
    {
      "cell_type": "code",
      "metadata": {
        "colab": {
          "base_uri": "https://localhost:8080/",
          "height": 441
        },
        "id": "hlDF3AI9WyNC",
        "outputId": "072f8f14-af66-4f4f-b456-30b0c0f2714a"
      },
      "source": [
        "fig2 = model.plot_components(forecast)"
      ],
      "execution_count": 11,
      "outputs": [
        {
          "output_type": "display_data",
          "data": {
            "image/png": "[encoded data removed]",
            "text/plain": [
              "<Figure size 648x432 with 2 Axes>"
            ]
          },
          "metadata": {}
        }
      ]
    },
    {
      "cell_type": "code",
      "metadata": {
        "colab": {
          "base_uri": "https://localhost:8080/"
        },
        "id": "Dk3EOc7LW1EK",
        "outputId": "444d4f68-f4af-4316-83e5-defb1d1d4190"
      },
      "source": [
        "#매수 시점의 가격\n",
        "nowValue = pyupbit.get_current_price(\"KRW-BTC\")\n",
        "nowValue"
      ],
      "execution_count": 12,
      "outputs": [
        {
          "output_type": "execute_result",
          "data": {
            "text/plain": [
              "63623000.0"
            ]
          },
          "metadata": {},
          "execution_count": 12
        }
      ]
    },
    {
      "cell_type": "code",
      "metadata": {
        "colab": {
          "base_uri": "https://localhost:8080/"
        },
        "id": "1LSwyFA-W3oF",
        "outputId": "d4330cdd-d4d5-4e22-d3c0-db367cd37694"
      },
      "source": [
        "#종가의 가격을 구함\n",
        "\n",
        "#현재 시간이 자정 이전\n",
        "closeDf = forecast[forecast['ds'] == forecast.iloc[-1]['ds'].replace(hour=9)]\n",
        "\n",
        "#현재 시간이 자정 이후\n",
        "if len(closeDf) == 0:\n",
        "  closeDf = forecast[forecast['ds'] == data.iloc[-1]['ds'].replace(hour=9)]\n",
        "\n",
        "#당일 종가\n",
        "closeValue = closeDf['yhat'].values[0]\n",
        "closeValue"
      ],
      "execution_count": 13,
      "outputs": [
        {
          "output_type": "execute_result",
          "data": {
            "text/plain": [
              "62983513.52503361"
            ]
          },
          "metadata": {},
          "execution_count": 13
        }
      ]
    },
    {
      "cell_type": "code",
      "metadata": {
        "colab": {
          "base_uri": "https://localhost:8080/"
        },
        "id": "nOzMrRrNZY-f",
        "outputId": "9b414ed4-1b73-4d81-fa18-cf10d25ff11c"
      },
      "source": [
        "print(\"현재 시점 가격: \", nowValue)\n",
        "print(\"종가의 가격: \", closeValue)"
      ],
      "execution_count": 14,
      "outputs": [
        {
          "output_type": "stream",
          "name": "stdout",
          "text": [
            "현재 시점 가격:  63623000.0\n",
            "종가의 가격:  62983513.52503361\n"
          ]
        }
      ]
    },
    {
      "cell_type": "code",
      "metadata": {
        "colab": {
          "base_uri": "https://localhost:8080/",
          "height": 791
        },
        "id": "KQhwzdA2W6E1",
        "outputId": "56ba97f1-5a4c-4bd7-ffeb-a844b8f24f03"
      },
      "source": [
        "forecast"
      ],
      "execution_count": 15,
      "outputs": [
        {
          "output_type": "execute_result",
          "data": {
            "text/html": [
              "<div>\n",
              "<style scoped>\n",
              "    .dataframe tbody tr th:only-of-type {\n",
              "        vertical-align: middle;\n",
              "    }\n",
              "\n",
              "    .dataframe tbody tr th {\n",
              "        vertical-align: top;\n",
              "    }\n",
              "\n",
              "    .dataframe thead th {\n",
              "        text-align: right;\n",
              "    }\n",
              "</style>\n",
              "<table border=\"1\" class=\"dataframe\">\n",
              "  <thead>\n",
              "    <tr style=\"text-align: right;\">\n",
              "      <th></th>\n",
              "      <th>ds</th>\n",
              "      <th>trend</th>\n",
              "      <th>yhat_lower</th>\n",
              "      <th>yhat_upper</th>\n",
              "      <th>trend_lower</th>\n",
              "      <th>trend_upper</th>\n",
              "      <th>additive_terms</th>\n",
              "      <th>additive_terms_lower</th>\n",
              "      <th>additive_terms_upper</th>\n",
              "      <th>daily</th>\n",
              "      <th>daily_lower</th>\n",
              "      <th>daily_upper</th>\n",
              "      <th>multiplicative_terms</th>\n",
              "      <th>multiplicative_terms_lower</th>\n",
              "      <th>multiplicative_terms_upper</th>\n",
              "      <th>yhat</th>\n",
              "    </tr>\n",
              "  </thead>\n",
              "  <tbody>\n",
              "    <tr>\n",
              "      <th>0</th>\n",
              "      <td>2021-11-29 11:00:00</td>\n",
              "      <td>7.228306e+07</td>\n",
              "      <td>7.155836e+07</td>\n",
              "      <td>7.357086e+07</td>\n",
              "      <td>7.228306e+07</td>\n",
              "      <td>7.228306e+07</td>\n",
              "      <td>264841.277072</td>\n",
              "      <td>264841.277072</td>\n",
              "      <td>264841.277072</td>\n",
              "      <td>264841.277072</td>\n",
              "      <td>264841.277072</td>\n",
              "      <td>264841.277072</td>\n",
              "      <td>0.0</td>\n",
              "      <td>0.0</td>\n",
              "      <td>0.0</td>\n",
              "      <td>7.254790e+07</td>\n",
              "    </tr>\n",
              "    <tr>\n",
              "      <th>1</th>\n",
              "      <td>2021-11-29 12:00:00</td>\n",
              "      <td>7.226043e+07</td>\n",
              "      <td>7.138766e+07</td>\n",
              "      <td>7.338055e+07</td>\n",
              "      <td>7.226043e+07</td>\n",
              "      <td>7.226043e+07</td>\n",
              "      <td>111176.586649</td>\n",
              "      <td>111176.586649</td>\n",
              "      <td>111176.586649</td>\n",
              "      <td>111176.586649</td>\n",
              "      <td>111176.586649</td>\n",
              "      <td>111176.586649</td>\n",
              "      <td>0.0</td>\n",
              "      <td>0.0</td>\n",
              "      <td>0.0</td>\n",
              "      <td>7.237161e+07</td>\n",
              "    </tr>\n",
              "    <tr>\n",
              "      <th>2</th>\n",
              "      <td>2021-11-29 13:00:00</td>\n",
              "      <td>7.223780e+07</td>\n",
              "      <td>7.113285e+07</td>\n",
              "      <td>7.320761e+07</td>\n",
              "      <td>7.223780e+07</td>\n",
              "      <td>7.223780e+07</td>\n",
              "      <td>-49623.279290</td>\n",
              "      <td>-49623.279290</td>\n",
              "      <td>-49623.279290</td>\n",
              "      <td>-49623.279290</td>\n",
              "      <td>-49623.279290</td>\n",
              "      <td>-49623.279290</td>\n",
              "      <td>0.0</td>\n",
              "      <td>0.0</td>\n",
              "      <td>0.0</td>\n",
              "      <td>7.218818e+07</td>\n",
              "    </tr>\n",
              "    <tr>\n",
              "      <th>3</th>\n",
              "      <td>2021-11-29 14:00:00</td>\n",
              "      <td>7.221518e+07</td>\n",
              "      <td>7.104552e+07</td>\n",
              "      <td>7.302553e+07</td>\n",
              "      <td>7.221518e+07</td>\n",
              "      <td>7.221518e+07</td>\n",
              "      <td>-164788.068076</td>\n",
              "      <td>-164788.068076</td>\n",
              "      <td>-164788.068076</td>\n",
              "      <td>-164788.068076</td>\n",
              "      <td>-164788.068076</td>\n",
              "      <td>-164788.068076</td>\n",
              "      <td>0.0</td>\n",
              "      <td>0.0</td>\n",
              "      <td>0.0</td>\n",
              "      <td>7.205039e+07</td>\n",
              "    </tr>\n",
              "    <tr>\n",
              "      <th>4</th>\n",
              "      <td>2021-11-29 15:00:00</td>\n",
              "      <td>7.219255e+07</td>\n",
              "      <td>7.098742e+07</td>\n",
              "      <td>7.293100e+07</td>\n",
              "      <td>7.219255e+07</td>\n",
              "      <td>7.219255e+07</td>\n",
              "      <td>-229730.639137</td>\n",
              "      <td>-229730.639137</td>\n",
              "      <td>-229730.639137</td>\n",
              "      <td>-229730.639137</td>\n",
              "      <td>-229730.639137</td>\n",
              "      <td>-229730.639137</td>\n",
              "      <td>0.0</td>\n",
              "      <td>0.0</td>\n",
              "      <td>0.0</td>\n",
              "      <td>7.196282e+07</td>\n",
              "    </tr>\n",
              "    <tr>\n",
              "      <th>...</th>\n",
              "      <td>...</td>\n",
              "      <td>...</td>\n",
              "      <td>...</td>\n",
              "      <td>...</td>\n",
              "      <td>...</td>\n",
              "      <td>...</td>\n",
              "      <td>...</td>\n",
              "      <td>...</td>\n",
              "      <td>...</td>\n",
              "      <td>...</td>\n",
              "      <td>...</td>\n",
              "      <td>...</td>\n",
              "      <td>...</td>\n",
              "      <td>...</td>\n",
              "      <td>...</td>\n",
              "      <td>...</td>\n",
              "    </tr>\n",
              "    <tr>\n",
              "      <th>219</th>\n",
              "      <td>2021-12-08 14:00:00</td>\n",
              "      <td>6.275350e+07</td>\n",
              "      <td>6.108033e+07</td>\n",
              "      <td>6.399305e+07</td>\n",
              "      <td>6.157665e+07</td>\n",
              "      <td>6.376959e+07</td>\n",
              "      <td>-164788.068074</td>\n",
              "      <td>-164788.068074</td>\n",
              "      <td>-164788.068074</td>\n",
              "      <td>-164788.068074</td>\n",
              "      <td>-164788.068074</td>\n",
              "      <td>-164788.068074</td>\n",
              "      <td>0.0</td>\n",
              "      <td>0.0</td>\n",
              "      <td>0.0</td>\n",
              "      <td>6.258871e+07</td>\n",
              "    </tr>\n",
              "    <tr>\n",
              "      <th>220</th>\n",
              "      <td>2021-12-08 15:00:00</td>\n",
              "      <td>6.278040e+07</td>\n",
              "      <td>6.107891e+07</td>\n",
              "      <td>6.404778e+07</td>\n",
              "      <td>6.153332e+07</td>\n",
              "      <td>6.387303e+07</td>\n",
              "      <td>-229730.639139</td>\n",
              "      <td>-229730.639139</td>\n",
              "      <td>-229730.639139</td>\n",
              "      <td>-229730.639139</td>\n",
              "      <td>-229730.639139</td>\n",
              "      <td>-229730.639139</td>\n",
              "      <td>0.0</td>\n",
              "      <td>0.0</td>\n",
              "      <td>0.0</td>\n",
              "      <td>6.255067e+07</td>\n",
              "    </tr>\n",
              "    <tr>\n",
              "      <th>221</th>\n",
              "      <td>2021-12-08 16:00:00</td>\n",
              "      <td>6.280731e+07</td>\n",
              "      <td>6.087700e+07</td>\n",
              "      <td>6.411683e+07</td>\n",
              "      <td>6.145939e+07</td>\n",
              "      <td>6.399795e+07</td>\n",
              "      <td>-282370.925839</td>\n",
              "      <td>-282370.925839</td>\n",
              "      <td>-282370.925839</td>\n",
              "      <td>-282370.925839</td>\n",
              "      <td>-282370.925839</td>\n",
              "      <td>-282370.925839</td>\n",
              "      <td>0.0</td>\n",
              "      <td>0.0</td>\n",
              "      <td>0.0</td>\n",
              "      <td>6.252494e+07</td>\n",
              "    </tr>\n",
              "    <tr>\n",
              "      <th>222</th>\n",
              "      <td>2021-12-08 17:00:00</td>\n",
              "      <td>6.283422e+07</td>\n",
              "      <td>6.081960e+07</td>\n",
              "      <td>6.409392e+07</td>\n",
              "      <td>6.136453e+07</td>\n",
              "      <td>6.411897e+07</td>\n",
              "      <td>-354983.872745</td>\n",
              "      <td>-354983.872745</td>\n",
              "      <td>-354983.872745</td>\n",
              "      <td>-354983.872745</td>\n",
              "      <td>-354983.872745</td>\n",
              "      <td>-354983.872745</td>\n",
              "      <td>0.0</td>\n",
              "      <td>0.0</td>\n",
              "      <td>0.0</td>\n",
              "      <td>6.247923e+07</td>\n",
              "    </tr>\n",
              "    <tr>\n",
              "      <th>223</th>\n",
              "      <td>2021-12-08 18:00:00</td>\n",
              "      <td>6.286112e+07</td>\n",
              "      <td>6.060648e+07</td>\n",
              "      <td>6.413813e+07</td>\n",
              "      <td>6.131539e+07</td>\n",
              "      <td>6.424216e+07</td>\n",
              "      <td>-432891.175751</td>\n",
              "      <td>-432891.175751</td>\n",
              "      <td>-432891.175751</td>\n",
              "      <td>-432891.175751</td>\n",
              "      <td>-432891.175751</td>\n",
              "      <td>-432891.175751</td>\n",
              "      <td>0.0</td>\n",
              "      <td>0.0</td>\n",
              "      <td>0.0</td>\n",
              "      <td>6.242823e+07</td>\n",
              "    </tr>\n",
              "  </tbody>\n",
              "</table>\n",
              "<p>224 rows × 16 columns</p>\n",
              "</div>"
            ],
            "text/plain": [
              "                     ds         trend  ...  multiplicative_terms_upper          yhat\n",
              "0   2021-11-29 11:00:00  7.228306e+07  ...                         0.0  7.254790e+07\n",
              "1   2021-11-29 12:00:00  7.226043e+07  ...                         0.0  7.237161e+07\n",
              "2   2021-11-29 13:00:00  7.223780e+07  ...                         0.0  7.218818e+07\n",
              "3   2021-11-29 14:00:00  7.221518e+07  ...                         0.0  7.205039e+07\n",
              "4   2021-11-29 15:00:00  7.219255e+07  ...                         0.0  7.196282e+07\n",
              "..                  ...           ...  ...                         ...           ...\n",
              "219 2021-12-08 14:00:00  6.275350e+07  ...                         0.0  6.258871e+07\n",
              "220 2021-12-08 15:00:00  6.278040e+07  ...                         0.0  6.255067e+07\n",
              "221 2021-12-08 16:00:00  6.280731e+07  ...                         0.0  6.252494e+07\n",
              "222 2021-12-08 17:00:00  6.283422e+07  ...                         0.0  6.247923e+07\n",
              "223 2021-12-08 18:00:00  6.286112e+07  ...                         0.0  6.242823e+07\n",
              "\n",
              "[224 rows x 16 columns]"
            ]
          },
          "metadata": {},
          "execution_count": 15
        }
      ]
    },
    {
      "cell_type": "code",
      "metadata": {
        "id": "CWQgZISsW74n"
      },
      "source": [
        ""
      ],
      "execution_count": null,
      "outputs": []
    }
  ]
}