{
  "nbformat": 4,
  "nbformat_minor": 0,
  "metadata": {
    "colab": {
      "name": "Untitled0.ipynb의 사본",
      "provenance": [],
      "collapsed_sections": []
    },
    "kernelspec": {
      "name": "python3",
      "display_name": "Python 3"
    },
    "language_info": {
      "name": "python"
    }
  },
  "cells": [
    {
      "cell_type": "code",
      "metadata": {
        "colab": {
          "base_uri": "https://localhost:8080/"
        },
        "id": "YBQMUlUEVz8-",
        "outputId": "9b308dd2-2623-47c9-be8a-9b3552e64e13"
      },
      "source": [
        "!pip install pyupbit"
      ],
      "execution_count": null,
      "outputs": [
        {
          "output_type": "stream",
          "name": "stdout",
          "text": [
            "Collecting pyupbit\n",
            "  Downloading pyupbit-0.2.21-py3-none-any.whl (21 kB)\n",
            "Collecting pyjwt>=2.0.0\n",
            "  Downloading PyJWT-2.3.0-py3-none-any.whl (16 kB)\n",
            "Requirement already satisfied: pandas in /usr/local/lib/python3.7/dist-packages (from pyupbit) (1.1.5)\n",
            "Collecting websockets==9.1\n",
            "  Downloading websockets-9.1-cp37-cp37m-manylinux2010_x86_64.whl (103 kB)\n",
            "\u001b[K     |████████████████████████████████| 103 kB 7.7 MB/s \n",
            "\u001b[?25hRequirement already satisfied: requests in /usr/local/lib/python3.7/dist-packages (from pyupbit) (2.23.0)\n",
            "Requirement already satisfied: pytz>=2017.2 in /usr/local/lib/python3.7/dist-packages (from pandas->pyupbit) (2018.9)\n",
            "Requirement already satisfied: numpy>=1.15.4 in /usr/local/lib/python3.7/dist-packages (from pandas->pyupbit) (1.19.5)\n",
            "Requirement already satisfied: python-dateutil>=2.7.3 in /usr/local/lib/python3.7/dist-packages (from pandas->pyupbit) (2.8.2)\n",
            "Requirement already satisfied: six>=1.5 in /usr/local/lib/python3.7/dist-packages (from python-dateutil>=2.7.3->pandas->pyupbit) (1.15.0)\n",
            "Requirement already satisfied: idna<3,>=2.5 in /usr/local/lib/python3.7/dist-packages (from requests->pyupbit) (2.10)\n",
            "Requirement already satisfied: urllib3!=1.25.0,!=1.25.1,<1.26,>=1.21.1 in /usr/local/lib/python3.7/dist-packages (from requests->pyupbit) (1.24.3)\n",
            "Requirement already satisfied: certifi>=2017.4.17 in /usr/local/lib/python3.7/dist-packages (from requests->pyupbit) (2021.10.8)\n",
            "Requirement already satisfied: chardet<4,>=3.0.2 in /usr/local/lib/python3.7/dist-packages (from requests->pyupbit) (3.0.4)\n",
            "Installing collected packages: websockets, pyjwt, pyupbit\n",
            "Successfully installed pyjwt-2.3.0 pyupbit-0.2.21 websockets-9.1\n"
          ]
        }
      ]
    },
    {
      "cell_type": "code",
      "metadata": {
        "id": "GGXX62QRV69A"
      },
      "source": [
        "import pyupbit"
      ],
      "execution_count": null,
      "outputs": []
    },
    {
      "cell_type": "code",
      "metadata": {
        "colab": {
          "base_uri": "https://localhost:8080/",
          "height": 424
        },
        "id": "RFYp_cEmWaMk",
        "outputId": "d90d7d5e-14a6-430e-fca7-cf2020f97359"
      },
      "source": [
        "#BTC 최근 200시간의 데이터 불러옴\n",
        "df = pyupbit.get_ohlcv(\"KRW-BTC\", interval=\"minute60\")\n",
        "df"
      ],
      "execution_count": null,
      "outputs": [
        {
          "output_type": "execute_result",
          "data": {
            "text/html": [
              "<div>\n",
              "<style scoped>\n",
              "    .dataframe tbody tr th:only-of-type {\n",
              "        vertical-align: middle;\n",
              "    }\n",
              "\n",
              "    .dataframe tbody tr th {\n",
              "        vertical-align: top;\n",
              "    }\n",
              "\n",
              "    .dataframe thead th {\n",
              "        text-align: right;\n",
              "    }\n",
              "</style>\n",
              "<table border=\"1\" class=\"dataframe\">\n",
              "  <thead>\n",
              "    <tr style=\"text-align: right;\">\n",
              "      <th></th>\n",
              "      <th>open</th>\n",
              "      <th>high</th>\n",
              "      <th>low</th>\n",
              "      <th>close</th>\n",
              "      <th>volume</th>\n",
              "      <th>value</th>\n",
              "    </tr>\n",
              "  </thead>\n",
              "  <tbody>\n",
              "    <tr>\n",
              "      <th>2021-11-28 12:00:00</th>\n",
              "      <td>69649000.0</td>\n",
              "      <td>69789000.0</td>\n",
              "      <td>69141000.0</td>\n",
              "      <td>69172000.0</td>\n",
              "      <td>235.786621</td>\n",
              "      <td>1.637121e+10</td>\n",
              "    </tr>\n",
              "    <tr>\n",
              "      <th>2021-11-28 13:00:00</th>\n",
              "      <td>69172000.0</td>\n",
              "      <td>69195000.0</td>\n",
              "      <td>68630000.0</td>\n",
              "      <td>68794000.0</td>\n",
              "      <td>363.754363</td>\n",
              "      <td>2.507321e+10</td>\n",
              "    </tr>\n",
              "    <tr>\n",
              "      <th>2021-11-28 14:00:00</th>\n",
              "      <td>68713000.0</td>\n",
              "      <td>69382000.0</td>\n",
              "      <td>68607000.0</td>\n",
              "      <td>69287000.0</td>\n",
              "      <td>249.096711</td>\n",
              "      <td>1.719862e+10</td>\n",
              "    </tr>\n",
              "    <tr>\n",
              "      <th>2021-11-28 15:00:00</th>\n",
              "      <td>69287000.0</td>\n",
              "      <td>69700000.0</td>\n",
              "      <td>69257000.0</td>\n",
              "      <td>69544000.0</td>\n",
              "      <td>184.608534</td>\n",
              "      <td>1.280943e+10</td>\n",
              "    </tr>\n",
              "    <tr>\n",
              "      <th>2021-11-28 16:00:00</th>\n",
              "      <td>69545000.0</td>\n",
              "      <td>69988000.0</td>\n",
              "      <td>69416000.0</td>\n",
              "      <td>69735000.0</td>\n",
              "      <td>200.719219</td>\n",
              "      <td>1.399355e+10</td>\n",
              "    </tr>\n",
              "    <tr>\n",
              "      <th>...</th>\n",
              "      <td>...</td>\n",
              "      <td>...</td>\n",
              "      <td>...</td>\n",
              "      <td>...</td>\n",
              "      <td>...</td>\n",
              "      <td>...</td>\n",
              "    </tr>\n",
              "    <tr>\n",
              "      <th>2021-12-06 15:00:00</th>\n",
              "      <td>60722000.0</td>\n",
              "      <td>60948000.0</td>\n",
              "      <td>60000000.0</td>\n",
              "      <td>60113000.0</td>\n",
              "      <td>519.712405</td>\n",
              "      <td>3.138226e+10</td>\n",
              "    </tr>\n",
              "    <tr>\n",
              "      <th>2021-12-06 16:00:00</th>\n",
              "      <td>60113000.0</td>\n",
              "      <td>60330000.0</td>\n",
              "      <td>59016000.0</td>\n",
              "      <td>60318000.0</td>\n",
              "      <td>1007.336155</td>\n",
              "      <td>6.017846e+10</td>\n",
              "    </tr>\n",
              "    <tr>\n",
              "      <th>2021-12-06 17:00:00</th>\n",
              "      <td>60330000.0</td>\n",
              "      <td>61294000.0</td>\n",
              "      <td>59800000.0</td>\n",
              "      <td>59971000.0</td>\n",
              "      <td>738.751379</td>\n",
              "      <td>4.464238e+10</td>\n",
              "    </tr>\n",
              "    <tr>\n",
              "      <th>2021-12-06 18:00:00</th>\n",
              "      <td>59971000.0</td>\n",
              "      <td>60118000.0</td>\n",
              "      <td>59092000.0</td>\n",
              "      <td>59228000.0</td>\n",
              "      <td>583.337953</td>\n",
              "      <td>3.472180e+10</td>\n",
              "    </tr>\n",
              "    <tr>\n",
              "      <th>2021-12-06 19:00:00</th>\n",
              "      <td>59230000.0</td>\n",
              "      <td>59776000.0</td>\n",
              "      <td>59116000.0</td>\n",
              "      <td>59700000.0</td>\n",
              "      <td>383.780266</td>\n",
              "      <td>2.284290e+10</td>\n",
              "    </tr>\n",
              "  </tbody>\n",
              "</table>\n",
              "<p>200 rows × 6 columns</p>\n",
              "</div>"
            ],
            "text/plain": [
              "                           open        high  ...       volume         value\n",
              "2021-11-28 12:00:00  69649000.0  69789000.0  ...   235.786621  1.637121e+10\n",
              "2021-11-28 13:00:00  69172000.0  69195000.0  ...   363.754363  2.507321e+10\n",
              "2021-11-28 14:00:00  68713000.0  69382000.0  ...   249.096711  1.719862e+10\n",
              "2021-11-28 15:00:00  69287000.0  69700000.0  ...   184.608534  1.280943e+10\n",
              "2021-11-28 16:00:00  69545000.0  69988000.0  ...   200.719219  1.399355e+10\n",
              "...                         ...         ...  ...          ...           ...\n",
              "2021-12-06 15:00:00  60722000.0  60948000.0  ...   519.712405  3.138226e+10\n",
              "2021-12-06 16:00:00  60113000.0  60330000.0  ...  1007.336155  6.017846e+10\n",
              "2021-12-06 17:00:00  60330000.0  61294000.0  ...   738.751379  4.464238e+10\n",
              "2021-12-06 18:00:00  59971000.0  60118000.0  ...   583.337953  3.472180e+10\n",
              "2021-12-06 19:00:00  59230000.0  59776000.0  ...   383.780266  2.284290e+10\n",
              "\n",
              "[200 rows x 6 columns]"
            ]
          },
          "metadata": {},
          "execution_count": 4
        }
      ]
    },
    {
      "cell_type": "code",
      "metadata": {
        "colab": {
          "base_uri": "https://localhost:8080/",
          "height": 424
        },
        "id": "KLiEPi1qWqh_",
        "outputId": "9df434fd-9609-4567-9bcb-d5625abc5e02"
      },
      "source": [
        "#시간(ds)와 종가(y)값만 남김\n",
        "df = df.reset_index()\n",
        "df['ds'] = df['index']\n",
        "df['y'] = df['close']\n",
        "data = df[['ds','y']]\n",
        "data"
      ],
      "execution_count": null,
      "outputs": [
        {
          "output_type": "execute_result",
          "data": {
            "text/html": [
              "<div>\n",
              "<style scoped>\n",
              "    .dataframe tbody tr th:only-of-type {\n",
              "        vertical-align: middle;\n",
              "    }\n",
              "\n",
              "    .dataframe tbody tr th {\n",
              "        vertical-align: top;\n",
              "    }\n",
              "\n",
              "    .dataframe thead th {\n",
              "        text-align: right;\n",
              "    }\n",
              "</style>\n",
              "<table border=\"1\" class=\"dataframe\">\n",
              "  <thead>\n",
              "    <tr style=\"text-align: right;\">\n",
              "      <th></th>\n",
              "      <th>ds</th>\n",
              "      <th>y</th>\n",
              "    </tr>\n",
              "  </thead>\n",
              "  <tbody>\n",
              "    <tr>\n",
              "      <th>0</th>\n",
              "      <td>2021-11-28 12:00:00</td>\n",
              "      <td>69172000.0</td>\n",
              "    </tr>\n",
              "    <tr>\n",
              "      <th>1</th>\n",
              "      <td>2021-11-28 13:00:00</td>\n",
              "      <td>68794000.0</td>\n",
              "    </tr>\n",
              "    <tr>\n",
              "      <th>2</th>\n",
              "      <td>2021-11-28 14:00:00</td>\n",
              "      <td>69287000.0</td>\n",
              "    </tr>\n",
              "    <tr>\n",
              "      <th>3</th>\n",
              "      <td>2021-11-28 15:00:00</td>\n",
              "      <td>69544000.0</td>\n",
              "    </tr>\n",
              "    <tr>\n",
              "      <th>4</th>\n",
              "      <td>2021-11-28 16:00:00</td>\n",
              "      <td>69735000.0</td>\n",
              "    </tr>\n",
              "    <tr>\n",
              "      <th>...</th>\n",
              "      <td>...</td>\n",
              "      <td>...</td>\n",
              "    </tr>\n",
              "    <tr>\n",
              "      <th>195</th>\n",
              "      <td>2021-12-06 15:00:00</td>\n",
              "      <td>60113000.0</td>\n",
              "    </tr>\n",
              "    <tr>\n",
              "      <th>196</th>\n",
              "      <td>2021-12-06 16:00:00</td>\n",
              "      <td>60318000.0</td>\n",
              "    </tr>\n",
              "    <tr>\n",
              "      <th>197</th>\n",
              "      <td>2021-12-06 17:00:00</td>\n",
              "      <td>59971000.0</td>\n",
              "    </tr>\n",
              "    <tr>\n",
              "      <th>198</th>\n",
              "      <td>2021-12-06 18:00:00</td>\n",
              "      <td>59228000.0</td>\n",
              "    </tr>\n",
              "    <tr>\n",
              "      <th>199</th>\n",
              "      <td>2021-12-06 19:00:00</td>\n",
              "      <td>59700000.0</td>\n",
              "    </tr>\n",
              "  </tbody>\n",
              "</table>\n",
              "<p>200 rows × 2 columns</p>\n",
              "</div>"
            ],
            "text/plain": [
              "                     ds           y\n",
              "0   2021-11-28 12:00:00  69172000.0\n",
              "1   2021-11-28 13:00:00  68794000.0\n",
              "2   2021-11-28 14:00:00  69287000.0\n",
              "3   2021-11-28 15:00:00  69544000.0\n",
              "4   2021-11-28 16:00:00  69735000.0\n",
              "..                  ...         ...\n",
              "195 2021-12-06 15:00:00  60113000.0\n",
              "196 2021-12-06 16:00:00  60318000.0\n",
              "197 2021-12-06 17:00:00  59971000.0\n",
              "198 2021-12-06 18:00:00  59228000.0\n",
              "199 2021-12-06 19:00:00  59700000.0\n",
              "\n",
              "[200 rows x 2 columns]"
            ]
          },
          "metadata": {},
          "execution_count": 5
        }
      ]
    },
    {
      "cell_type": "code",
      "metadata": {
        "id": "Ebz-XIHaWtWP"
      },
      "source": [
        "#prophet 불러옴\n",
        "from fbprophet import Prophet"
      ],
      "execution_count": null,
      "outputs": []
    },
    {
      "cell_type": "code",
      "metadata": {
        "colab": {
          "base_uri": "https://localhost:8080/"
        },
        "id": "eVp75CyHXgHr",
        "outputId": "6cd53108-6bb6-4bea-d43e-a7662a8720d9"
      },
      "source": [
        "#학습\n",
        "model = Prophet()\n",
        "model.fit(data)"
      ],
      "execution_count": null,
      "outputs": [
        {
          "output_type": "stream",
          "name": "stderr",
          "text": [
            "INFO:fbprophet:Disabling yearly seasonality. Run prophet with yearly_seasonality=True to override this.\n",
            "INFO:fbprophet:Disabling weekly seasonality. Run prophet with weekly_seasonality=True to override this.\n"
          ]
        },
        {
          "output_type": "execute_result",
          "data": {
            "text/plain": [
              "<fbprophet.forecaster.Prophet at 0x7f3d36aa2590>"
            ]
          },
          "metadata": {},
          "execution_count": 13
        }
      ]
    },
    {
      "cell_type": "code",
      "metadata": {
        "id": "fkzuN5tbWvxl"
      },
      "source": [
        "#24시간 미래 예측\n",
        "future = model.make_future_dataframe(periods=24, freq='H')\n",
        "forecast = model.predict(future)"
      ],
      "execution_count": null,
      "outputs": []
    },
    {
      "cell_type": "code",
      "metadata": {
        "colab": {
          "base_uri": "https://localhost:8080/",
          "height": 441
        },
        "id": "Oe4xryGDXmdk",
        "outputId": "916da8a4-11d7-491f-8ddc-f08e7a6d719f"
      },
      "source": [
        "#그래프1\n",
        "fig1 = model.plot(forecast)"
      ],
      "execution_count": null,
      "outputs": [
        {
          "output_type": "display_data",
          "data": {
            "image/png": "[encoded data removed]",
            "text/plain": [
              "<Figure size 720x432 with 1 Axes>"
            ]
          },
          "metadata": {}
        }
      ]
    },
    {
      "cell_type": "code",
      "metadata": {
        "colab": {
          "base_uri": "https://localhost:8080/",
          "height": 441
        },
        "id": "hlDF3AI9WyNC",
        "outputId": "d117a56a-3d71-40b8-bed0-db050a704566"
      },
      "source": [
        "#그래프2\n",
        "fig2 = model.plot_components(forecast)"
      ],
      "execution_count": null,
      "outputs": [
        {
          "output_type": "display_data",
          "data": {
            "image/png": "[encoded data removed]",
            "text/plain": [
              "<Figure size 648x432 with 2 Axes>"
            ]
          },
          "metadata": {}
        }
      ]
    },
    {
      "cell_type": "code",
      "metadata": {
        "colab": {
          "base_uri": "https://localhost:8080/"
        },
        "id": "Dk3EOc7LW1EK",
        "outputId": "bf44c579-044d-4de5-b8e7-26b9c21e2343"
      },
      "source": [
        "#매수 시점의 가격\n",
        "nowValue = pyupbit.get_current_price(\"KRW-BTC\")\n",
        "nowValue"
      ],
      "execution_count": null,
      "outputs": [
        {
          "output_type": "execute_result",
          "data": {
            "text/plain": [
              "59727000.0"
            ]
          },
          "metadata": {},
          "execution_count": 9
        }
      ]
    },
    {
      "cell_type": "code",
      "metadata": {
        "colab": {
          "base_uri": "https://localhost:8080/"
        },
        "id": "1LSwyFA-W3oF",
        "outputId": "dd3f3897-4324-42c0-e1e5-114cf99ed69a"
      },
      "source": [
        "#종가의 가격을 구함\n",
        "\n",
        "#현재 시간이 자정 이전\n",
        "closeDf = forecast[forecast['ds'] == forecast.iloc[-1]['ds'].replace(hour=9)]\n",
        "\n",
        "#현재 시간이 자정 이후\n",
        "if len(closeDf) == 0:\n",
        "  closeDf = forecast[forecast['ds'] == data.iloc[-1]['ds'].replace(hour=9)]\n",
        "\n",
        "#어쨋든 당일 종가\n",
        "closeValue = closeDf['yhat'].values[0]\n",
        "closeValue"
      ],
      "execution_count": null,
      "outputs": [
        {
          "output_type": "execute_result",
          "data": {
            "text/plain": [
              "61555696.86472948"
            ]
          },
          "metadata": {},
          "execution_count": 10
        }
      ]
    },
    {
      "cell_type": "code",
      "metadata": {
        "colab": {
          "base_uri": "https://localhost:8080/"
        },
        "id": "nOzMrRrNZY-f",
        "outputId": "dbcd3ce7-aec2-42d9-984f-178921f9131f"
      },
      "source": [
        "#구체적인 가격\n",
        "print(\"현재 시점 가격: \", nowValue)\n",
        "print(\"종가의 가격: \", closeValue)"
      ],
      "execution_count": null,
      "outputs": [
        {
          "output_type": "stream",
          "name": "stdout",
          "text": [
            "현재 시점 가격:  59727000.0\n",
            "종가의 가격:  61555696.86472948\n"
          ]
        }
      ]
    },
    {
      "cell_type": "code",
      "metadata": {
        "colab": {
          "base_uri": "https://localhost:8080/",
          "height": 791
        },
        "id": "KQhwzdA2W6E1",
        "outputId": "0bcafd40-78a9-41c3-f80f-e0b5595d1ae0"
      },
      "source": [
        "forecast"
      ],
      "execution_count": null,
      "outputs": [
        {
          "output_type": "execute_result",
          "data": {
            "text/html": [
              "<div>\n",
              "<style scoped>\n",
              "    .dataframe tbody tr th:only-of-type {\n",
              "        vertical-align: middle;\n",
              "    }\n",
              "\n",
              "    .dataframe tbody tr th {\n",
              "        vertical-align: top;\n",
              "    }\n",
              "\n",
              "    .dataframe thead th {\n",
              "        text-align: right;\n",
              "    }\n",
              "</style>\n",
              "<table border=\"1\" class=\"dataframe\">\n",
              "  <thead>\n",
              "    <tr style=\"text-align: right;\">\n",
              "      <th></th>\n",
              "      <th>ds</th>\n",
              "      <th>trend</th>\n",
              "      <th>yhat_lower</th>\n",
              "      <th>yhat_upper</th>\n",
              "      <th>trend_lower</th>\n",
              "      <th>trend_upper</th>\n",
              "      <th>additive_terms</th>\n",
              "      <th>additive_terms_lower</th>\n",
              "      <th>additive_terms_upper</th>\n",
              "      <th>daily</th>\n",
              "      <th>daily_lower</th>\n",
              "      <th>daily_upper</th>\n",
              "      <th>multiplicative_terms</th>\n",
              "      <th>multiplicative_terms_lower</th>\n",
              "      <th>multiplicative_terms_upper</th>\n",
              "      <th>yhat</th>\n",
              "    </tr>\n",
              "  </thead>\n",
              "  <tbody>\n",
              "    <tr>\n",
              "      <th>0</th>\n",
              "      <td>2021-11-28 12:00:00</td>\n",
              "      <td>6.905586e+07</td>\n",
              "      <td>6.814630e+07</td>\n",
              "      <td>7.005997e+07</td>\n",
              "      <td>6.905586e+07</td>\n",
              "      <td>6.905586e+07</td>\n",
              "      <td>73729.353165</td>\n",
              "      <td>73729.353165</td>\n",
              "      <td>73729.353165</td>\n",
              "      <td>73729.353165</td>\n",
              "      <td>73729.353165</td>\n",
              "      <td>73729.353165</td>\n",
              "      <td>0.0</td>\n",
              "      <td>0.0</td>\n",
              "      <td>0.0</td>\n",
              "      <td>6.912959e+07</td>\n",
              "    </tr>\n",
              "    <tr>\n",
              "      <th>1</th>\n",
              "      <td>2021-11-28 13:00:00</td>\n",
              "      <td>6.916612e+07</td>\n",
              "      <td>6.809741e+07</td>\n",
              "      <td>7.001459e+07</td>\n",
              "      <td>6.916612e+07</td>\n",
              "      <td>6.916612e+07</td>\n",
              "      <td>-117006.179771</td>\n",
              "      <td>-117006.179771</td>\n",
              "      <td>-117006.179771</td>\n",
              "      <td>-117006.179771</td>\n",
              "      <td>-117006.179771</td>\n",
              "      <td>-117006.179771</td>\n",
              "      <td>0.0</td>\n",
              "      <td>0.0</td>\n",
              "      <td>0.0</td>\n",
              "      <td>6.904911e+07</td>\n",
              "    </tr>\n",
              "    <tr>\n",
              "      <th>2</th>\n",
              "      <td>2021-11-28 14:00:00</td>\n",
              "      <td>6.927637e+07</td>\n",
              "      <td>6.811040e+07</td>\n",
              "      <td>6.994633e+07</td>\n",
              "      <td>6.927637e+07</td>\n",
              "      <td>6.927637e+07</td>\n",
              "      <td>-246466.645488</td>\n",
              "      <td>-246466.645488</td>\n",
              "      <td>-246466.645488</td>\n",
              "      <td>-246466.645488</td>\n",
              "      <td>-246466.645488</td>\n",
              "      <td>-246466.645488</td>\n",
              "      <td>0.0</td>\n",
              "      <td>0.0</td>\n",
              "      <td>0.0</td>\n",
              "      <td>6.902991e+07</td>\n",
              "    </tr>\n",
              "    <tr>\n",
              "      <th>3</th>\n",
              "      <td>2021-11-28 15:00:00</td>\n",
              "      <td>6.938663e+07</td>\n",
              "      <td>6.815030e+07</td>\n",
              "      <td>6.999455e+07</td>\n",
              "      <td>6.938663e+07</td>\n",
              "      <td>6.938663e+07</td>\n",
              "      <td>-318982.864242</td>\n",
              "      <td>-318982.864242</td>\n",
              "      <td>-318982.864242</td>\n",
              "      <td>-318982.864242</td>\n",
              "      <td>-318982.864242</td>\n",
              "      <td>-318982.864242</td>\n",
              "      <td>0.0</td>\n",
              "      <td>0.0</td>\n",
              "      <td>0.0</td>\n",
              "      <td>6.906765e+07</td>\n",
              "    </tr>\n",
              "    <tr>\n",
              "      <th>4</th>\n",
              "      <td>2021-11-28 16:00:00</td>\n",
              "      <td>6.949688e+07</td>\n",
              "      <td>6.820835e+07</td>\n",
              "      <td>7.006543e+07</td>\n",
              "      <td>6.949688e+07</td>\n",
              "      <td>6.949688e+07</td>\n",
              "      <td>-383666.659474</td>\n",
              "      <td>-383666.659474</td>\n",
              "      <td>-383666.659474</td>\n",
              "      <td>-383666.659474</td>\n",
              "      <td>-383666.659474</td>\n",
              "      <td>-383666.659474</td>\n",
              "      <td>0.0</td>\n",
              "      <td>0.0</td>\n",
              "      <td>0.0</td>\n",
              "      <td>6.911322e+07</td>\n",
              "    </tr>\n",
              "    <tr>\n",
              "      <th>...</th>\n",
              "      <td>...</td>\n",
              "      <td>...</td>\n",
              "      <td>...</td>\n",
              "      <td>...</td>\n",
              "      <td>...</td>\n",
              "      <td>...</td>\n",
              "      <td>...</td>\n",
              "      <td>...</td>\n",
              "      <td>...</td>\n",
              "      <td>...</td>\n",
              "      <td>...</td>\n",
              "      <td>...</td>\n",
              "      <td>...</td>\n",
              "      <td>...</td>\n",
              "      <td>...</td>\n",
              "      <td>...</td>\n",
              "    </tr>\n",
              "    <tr>\n",
              "      <th>219</th>\n",
              "      <td>2021-12-07 15:00:00</td>\n",
              "      <td>6.118625e+07</td>\n",
              "      <td>5.943267e+07</td>\n",
              "      <td>6.220899e+07</td>\n",
              "      <td>6.009992e+07</td>\n",
              "      <td>6.226233e+07</td>\n",
              "      <td>-318982.864240</td>\n",
              "      <td>-318982.864240</td>\n",
              "      <td>-318982.864240</td>\n",
              "      <td>-318982.864240</td>\n",
              "      <td>-318982.864240</td>\n",
              "      <td>-318982.864240</td>\n",
              "      <td>0.0</td>\n",
              "      <td>0.0</td>\n",
              "      <td>0.0</td>\n",
              "      <td>6.086727e+07</td>\n",
              "    </tr>\n",
              "    <tr>\n",
              "      <th>220</th>\n",
              "      <td>2021-12-07 16:00:00</td>\n",
              "      <td>6.118656e+07</td>\n",
              "      <td>5.924336e+07</td>\n",
              "      <td>6.225614e+07</td>\n",
              "      <td>6.002704e+07</td>\n",
              "      <td>6.231242e+07</td>\n",
              "      <td>-383666.659473</td>\n",
              "      <td>-383666.659473</td>\n",
              "      <td>-383666.659473</td>\n",
              "      <td>-383666.659473</td>\n",
              "      <td>-383666.659473</td>\n",
              "      <td>-383666.659473</td>\n",
              "      <td>0.0</td>\n",
              "      <td>0.0</td>\n",
              "      <td>0.0</td>\n",
              "      <td>6.080289e+07</td>\n",
              "    </tr>\n",
              "    <tr>\n",
              "      <th>221</th>\n",
              "      <td>2021-12-07 17:00:00</td>\n",
              "      <td>6.118687e+07</td>\n",
              "      <td>5.908313e+07</td>\n",
              "      <td>6.234730e+07</td>\n",
              "      <td>5.991425e+07</td>\n",
              "      <td>6.241200e+07</td>\n",
              "      <td>-464356.694194</td>\n",
              "      <td>-464356.694194</td>\n",
              "      <td>-464356.694194</td>\n",
              "      <td>-464356.694194</td>\n",
              "      <td>-464356.694194</td>\n",
              "      <td>-464356.694194</td>\n",
              "      <td>0.0</td>\n",
              "      <td>0.0</td>\n",
              "      <td>0.0</td>\n",
              "      <td>6.072251e+07</td>\n",
              "    </tr>\n",
              "    <tr>\n",
              "      <th>222</th>\n",
              "      <td>2021-12-07 18:00:00</td>\n",
              "      <td>6.118718e+07</td>\n",
              "      <td>5.895302e+07</td>\n",
              "      <td>6.226384e+07</td>\n",
              "      <td>5.980589e+07</td>\n",
              "      <td>6.251833e+07</td>\n",
              "      <td>-518863.367171</td>\n",
              "      <td>-518863.367171</td>\n",
              "      <td>-518863.367171</td>\n",
              "      <td>-518863.367171</td>\n",
              "      <td>-518863.367171</td>\n",
              "      <td>-518863.367171</td>\n",
              "      <td>0.0</td>\n",
              "      <td>0.0</td>\n",
              "      <td>0.0</td>\n",
              "      <td>6.066832e+07</td>\n",
              "    </tr>\n",
              "    <tr>\n",
              "      <th>223</th>\n",
              "      <td>2021-12-07 19:00:00</td>\n",
              "      <td>6.118749e+07</td>\n",
              "      <td>5.902137e+07</td>\n",
              "      <td>6.243576e+07</td>\n",
              "      <td>5.967649e+07</td>\n",
              "      <td>6.259774e+07</td>\n",
              "      <td>-474853.249148</td>\n",
              "      <td>-474853.249148</td>\n",
              "      <td>-474853.249148</td>\n",
              "      <td>-474853.249148</td>\n",
              "      <td>-474853.249148</td>\n",
              "      <td>-474853.249148</td>\n",
              "      <td>0.0</td>\n",
              "      <td>0.0</td>\n",
              "      <td>0.0</td>\n",
              "      <td>6.071264e+07</td>\n",
              "    </tr>\n",
              "  </tbody>\n",
              "</table>\n",
              "<p>224 rows × 16 columns</p>\n",
              "</div>"
            ],
            "text/plain": [
              "                     ds         trend  ...  multiplicative_terms_upper          yhat\n",
              "0   2021-11-28 12:00:00  6.905586e+07  ...                         0.0  6.912959e+07\n",
              "1   2021-11-28 13:00:00  6.916612e+07  ...                         0.0  6.904911e+07\n",
              "2   2021-11-28 14:00:00  6.927637e+07  ...                         0.0  6.902991e+07\n",
              "3   2021-11-28 15:00:00  6.938663e+07  ...                         0.0  6.906765e+07\n",
              "4   2021-11-28 16:00:00  6.949688e+07  ...                         0.0  6.911322e+07\n",
              "..                  ...           ...  ...                         ...           ...\n",
              "219 2021-12-07 15:00:00  6.118625e+07  ...                         0.0  6.086727e+07\n",
              "220 2021-12-07 16:00:00  6.118656e+07  ...                         0.0  6.080289e+07\n",
              "221 2021-12-07 17:00:00  6.118687e+07  ...                         0.0  6.072251e+07\n",
              "222 2021-12-07 18:00:00  6.118718e+07  ...                         0.0  6.066832e+07\n",
              "223 2021-12-07 19:00:00  6.118749e+07  ...                         0.0  6.071264e+07\n",
              "\n",
              "[224 rows x 16 columns]"
            ]
          },
          "metadata": {},
          "execution_count": 18
        }
      ]
    },
    {
      "cell_type": "code",
      "metadata": {
        "id": "CWQgZISsW74n"
      },
      "source": [
        ""
      ],
      "execution_count": null,
      "outputs": []
    }
  ]
}